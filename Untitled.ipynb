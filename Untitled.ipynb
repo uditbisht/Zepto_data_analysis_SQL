{
 "cells": [
  {
   "cell_type": "code",
   "execution_count": 1,
   "id": "ee91fe1f-0a1f-421f-baa2-4621c07ecc9a",
   "metadata": {},
   "outputs": [
    {
     "name": "stdout",
     "output_type": "stream",
     "text": [
      "{'encoding': 'utf-8', 'confidence': 0.7525, 'language': ''}\n"
     ]
    }
   ],
   "source": [
    "import chardet\n",
    "\n",
    "with open(\"zepto_v2_utf8.csv\", \"rb\") as f:\n",
    "    print(chardet.detect(f.read(100000)))\n"
   ]
  },
  {
   "cell_type": "code",
   "execution_count": null,
   "id": "1a1fb5f9-56e6-4125-8a69-558f4bfd0ce3",
   "metadata": {},
   "outputs": [],
   "source": []
  }
 ],
 "metadata": {
  "kernelspec": {
   "display_name": "Python [conda env:base] *",
   "language": "python",
   "name": "conda-base-py"
  },
  "language_info": {
   "codemirror_mode": {
    "name": "ipython",
    "version": 3
   },
   "file_extension": ".py",
   "mimetype": "text/x-python",
   "name": "python",
   "nbconvert_exporter": "python",
   "pygments_lexer": "ipython3",
   "version": "3.12.7"
  }
 },
 "nbformat": 4,
 "nbformat_minor": 5
}
